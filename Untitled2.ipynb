{
  "nbformat": 4,
  "nbformat_minor": 0,
  "metadata": {
    "colab": {
      "provenance": [],
      "authorship_tag": "ABX9TyN0kppdpT2klQou5pDKzMSx",
      "include_colab_link": true
    },
    "kernelspec": {
      "name": "python3",
      "display_name": "Python 3"
    },
    "language_info": {
      "name": "python"
    }
  },
  "cells": [
    {
      "cell_type": "markdown",
      "metadata": {
        "id": "view-in-github",
        "colab_type": "text"
      },
      "source": [
        "<a href=\"https://colab.research.google.com/github/YUSFAR/YUSFAR/blob/main/Untitled2.ipynb\" target=\"_parent\"><img src=\"https://colab.research.google.com/assets/colab-badge.svg\" alt=\"Open In Colab\"/></a>"
      ]
    },
    {
      "cell_type": "code",
      "execution_count": null,
      "metadata": {
        "id": "eSDLQyfQzhNu"
      },
      "outputs": [],
      "source": [
        "#1.soru\n",
        "sayi = int(input(\"Bir sayı girin: \"))\n",
        "\n",
        "if sayi % 5 == 0 or sayi % 7 == 0:\n",
        "    if sayi % 5 == 0 and sayi % 7 == 0:\n",
        "        print(f\"{sayi}, hem 5'e hem de 7'ye bölünür.\")\n",
        "    elif sayi % 5 == 0:\n",
        "        print(f\"{sayi}, 5'e bölünür.\")\n",
        "    else:\n",
        "        print(f\"{sayi}, 7'ye bölünür.\")\n",
        "else:\n",
        "    print(f\"{sayi}, 5'e veya 7'ye bölünmez.\")\n",
        "#2.soru\n",
        "import random\n",
        "\n",
        "sayi = random.randint(1, 9)\n",
        "\n",
        "while True:\n",
        "    tahmin = int(input(\"1 ile 9 arasında bir sayı tahmin edin: \"))\n",
        "\n",
        "    if tahmin == sayi:\n",
        "        print(\"sayıyı doğru tahmin ettiniz.\")\n",
        "        break\n",
        "    else:\n",
        "        print(\"sayıyı yanlış tahmin ettiniz. Tekrar deneyin.\")\n",
        "#3.soru\n",
        "kelime = input(\"Bir kelime girin: \")\n",
        "\n",
        "if len(kelime) < 2:\n",
        "    print(\"Kelime en az iki harf içermelidir.\")\n",
        "elif kelime[0] == kelime[-1]:\n",
        "    print(f\"{kelime} kelimesi başında ve sonunda aynı harfe sahiptir.\")\n",
        "else:\n",
        "    print(f\"{kelime} kelimesi başında ve sonunda aynı harfe sahip değildir.\")\n",
        "#4.soru\n",
        "boy = float(input(\"Boyunuzu (metre cinsinden) girin: \"))\n",
        "kilo = float(input(\"Kilonuzu (kilogram cinsinden) girin: \"))\n",
        "\n",
        "bmi = kilo / (boy ** 2)\n",
        "\n",
        "if bmi >= 30:\n",
        "    print(\"Beden Kitle İndeksiniz (BMI): {:.2f} ve obezsiniz.\".format(bmi))\n",
        "elif 25 <= bmi < 30:\n",
        "    print(\"Beden Kitle İndeksiniz (BMI): {:.2f} ve aşırı kilolusunuz.\".format(bmi))\n",
        "elif 20 <= bmi < 25:\n",
        "    print(\"Beden Kitle İndeksiniz (BMI): {:.2f} ve normal kilodasınız.\".format(bmi))\n",
        "else:\n",
        "    print(\"Beden Kitle İndeksiniz (BMI): {:.2f} ve zayıfsınız.\".format(bmi))"
      ]
    }
  ]
}