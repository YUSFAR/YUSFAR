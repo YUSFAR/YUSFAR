{
  "nbformat": 4,
  "nbformat_minor": 0,
  "metadata": {
    "colab": {
      "provenance": []
    },
    "kernelspec": {
      "name": "python3",
      "display_name": "Python 3"
    },
    "language_info": {
      "name": "python"
    }
  },
  "cells": [
    {
      "cell_type": "code",
      "execution_count": 1,
      "metadata": {
        "colab": {
          "base_uri": "https://localhost:8080/"
        },
        "id": "Ph-jiHUXwhSM",
        "outputId": "c0d4c5f8-7b6e-4d19-f62a-fd3a8203b708"
      },
      "outputs": [
        {
          "output_type": "stream",
          "name": "stdout",
          "text": [
            "10000 TL'yi ikiye katlamak için gereken yıl sayısı: 5 yıl\n"
          ]
        }
      ],
      "source": [
        "def ikiye_katlamak_icin_yil_hesapla(baslangic_yatirim, yillik_faiz_orani):\n",
        "    yil = 0\n",
        "    bakiye = baslangic_yatirim\n",
        "\n",
        "    while bakiye < baslangic_yatirim * 2:\n",
        "        faiz_miktari = bakiye * yillik_faiz_orani\n",
        "        bakiye += faiz_miktari\n",
        "        yil += 1\n",
        "\n",
        "    return yil\n",
        "\n",
        "baslangic_yatirim = 10000  # Başlangıç yatırımı\n",
        "yillik_faiz_orani = 0.15  # Yıllık faiz oranı (%15)\n",
        "\n",
        "gereken_yil_sayisi = ikiye_katlamak_icin_yil_hesapla(baslangic_yatirim, yillik_faiz_orani)\n",
        "\n",
        "print(f\"{baslangic_yatirim} TL'yi ikiye katlamak için gereken yıl sayısı: {gereken_yil_sayisi} yıl\")"
      ]
    },
    {
      "cell_type": "code",
      "source": [
        "\n",
        "baslangic_sayi = int(input(\"Başlangıç mikroorganizma sayısını girin: \"))\n",
        "sure = 0\n",
        "while baslangic_sayi < 1000000:\n",
        "    baslangic_sayi *= 2\n",
        "    sure += 10\n",
        "gunler = sure // 24\n",
        "kalan_saatler = sure % 24\n",
        "\n",
        "print(f\"1000000 mikroorganizmaya sahip olmak için {gunler} gün, {kalan_saatler} saat sürer.\")"
      ],
      "metadata": {
        "colab": {
          "base_uri": "https://localhost:8080/"
        },
        "id": "PtbyKgq4w9HI",
        "outputId": "39758b38-eaaa-441e-d8d3-25f819136827"
      },
      "execution_count": 2,
      "outputs": [
        {
          "output_type": "stream",
          "name": "stdout",
          "text": [
            "Başlangıç mikroorganizma sayısını girin: 10\n",
            "1000000 mikroorganizmaya sahip olmak için 7 gün, 2 saat sürer.\n"
          ]
        }
      ]
    },
    {
      "cell_type": "code",
      "source": [
        "toplam = 0\n",
        "sayac = 0\n",
        "\n",
        "while True:\n",
        "    sayi = int(input(\"Pozitif bir tamsayı girin (Negatif bir sayı girene kadar devam edin): \"))\n",
        "    if sayi < 0:\n",
        "        break\n",
        "    toplam += sayi\n",
        "    sayac += 1\n",
        "\n",
        "\n",
        "if sayac > 0:\n",
        "    ortalama = toplam / sayac\n",
        "    print(f\"Girdiğiniz sayıların ortalaması: {ortalama}\")\n",
        "else:\n",
        "    print(\"Hiç pozitif tamsayı girilmedi.\")\n"
      ],
      "metadata": {
        "colab": {
          "base_uri": "https://localhost:8080/"
        },
        "id": "g4GE50g2xNCr",
        "outputId": "ba092abf-bb6a-4abc-db4a-883b7ac02a07"
      },
      "execution_count": 4,
      "outputs": [
        {
          "output_type": "stream",
          "name": "stdout",
          "text": [
            "Pozitif bir tamsayı girin (Negatif bir sayı girene kadar devam edin): 5\n",
            "Pozitif bir tamsayı girin (Negatif bir sayı girene kadar devam edin): 6\n",
            "Pozitif bir tamsayı girin (Negatif bir sayı girene kadar devam edin): -6\n",
            "Girdiğiniz sayıların ortalaması: 5.5\n"
          ]
        }
      ]
    },
    {
      "cell_type": "code",
      "source": [
        "import random\n",
        "hedef_sayi = random.randint(1, 10)\n",
        "tahminler = 0\n",
        "while True:\n",
        "    tahmin = int(input(\"1 ile 10 arasında bir sayı tahmin edin: \"))\n",
        "    tahminler += 1\n",
        "    if tahmin < hedef_sayi:\n",
        "        print(\"Daha büyük bir sayı tahmin edin.\")\n",
        "    elif tahmin > hedef_sayi:\n",
        "        print(\"Daha küçük bir sayı tahmin edin.\")\n",
        "    else:\n",
        "        print(f\"Tebrikler! {hedef_sayi} sayısını doğru tahmin ettiniz!\")\n",
        "        print(f\"{tahminler} tahminde bulundunuz.\")\n",
        "        break"
      ],
      "metadata": {
        "colab": {
          "base_uri": "https://localhost:8080/"
        },
        "id": "Ru75u__6xlMK",
        "outputId": "98e5ee4b-7bb2-4cb8-94c9-18dfd694fd07"
      },
      "execution_count": 6,
      "outputs": [
        {
          "output_type": "stream",
          "name": "stdout",
          "text": [
            "1 ile 10 arasında bir sayı tahmin edin: 4\n",
            "Daha büyük bir sayı tahmin edin.\n",
            "1 ile 10 arasında bir sayı tahmin edin: 6\n",
            "Daha büyük bir sayı tahmin edin.\n",
            "1 ile 10 arasında bir sayı tahmin edin: 9\n",
            "Daha küçük bir sayı tahmin edin.\n",
            "1 ile 10 arasında bir sayı tahmin edin: 8\n",
            "Daha küçük bir sayı tahmin edin.\n",
            "1 ile 10 arasında bir sayı tahmin edin: 7\n",
            "Tebrikler! 7 sayısını doğru tahmin ettiniz!\n",
            "5 tahminde bulundunuz.\n"
          ]
        }
      ]
    }
  ]
}